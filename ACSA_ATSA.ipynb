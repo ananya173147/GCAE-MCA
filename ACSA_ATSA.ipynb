{
  "nbformat": 4,
  "nbformat_minor": 0,
  "metadata": {
    "colab": {
      "name": "ACSA/ATSA.ipynb",
      "provenance": [],
      "collapsed_sections": []
    },
    "kernelspec": {
      "display_name": "Python 3",
      "name": "python3"
    },
    "language_info": {
      "name": "python"
    }
  },
  "cells": [
    {
      "cell_type": "code",
      "metadata": {
        "colab": {
          "base_uri": "https://localhost:8080/"
        },
        "id": "0sxutvC1rxzt",
        "outputId": "3f0a3cfb-1dc2-4e51-902c-38e8119a12db"
      },
      "source": [
        "!git clone https://github.com/SinclairCoder/GCAE-Reproduce.git"
      ],
      "execution_count": null,
      "outputs": [
        {
          "output_type": "stream",
          "name": "stdout",
          "text": [
            "Cloning into 'GCAE-Reproduce'...\n",
            "remote: Enumerating objects: 72, done.\u001b[K\n",
            "remote: Counting objects: 100% (72/72), done.\u001b[K\n",
            "remote: Compressing objects: 100% (46/46), done.\u001b[K\n",
            "remote: Total 72 (delta 33), reused 61 (delta 25), pack-reused 0\u001b[K\n",
            "Unpacking objects: 100% (72/72), done.\n"
          ]
        }
      ]
    },
    {
      "cell_type": "code",
      "metadata": {
        "colab": {
          "base_uri": "https://localhost:8080/"
        },
        "id": "qDGuUjObr7tJ",
        "outputId": "e764cfdb-ddcf-496c-cff4-781b53fea0d5"
      },
      "source": [
        "from google.colab import drive\n",
        "drive.mount('/content/gdrive')"
      ],
      "execution_count": null,
      "outputs": [
        {
          "output_type": "stream",
          "name": "stdout",
          "text": [
            "Mounted at /content/gdrive\n"
          ]
        }
      ]
    },
    {
      "cell_type": "code",
      "metadata": {
        "colab": {
          "base_uri": "https://localhost:8080/"
        },
        "id": "bFmAqG-bsTHE",
        "outputId": "22bc528c-fac8-4f13-b626-02ee552da38b"
      },
      "source": [
        "pip install sacremoses"
      ],
      "execution_count": null,
      "outputs": [
        {
          "output_type": "stream",
          "name": "stdout",
          "text": [
            "Collecting sacremoses\n",
            "  Downloading sacremoses-0.0.46-py3-none-any.whl (895 kB)\n",
            "\u001b[?25l\r\u001b[K     |▍                               | 10 kB 23.9 MB/s eta 0:00:01\r\u001b[K     |▊                               | 20 kB 12.6 MB/s eta 0:00:01\r\u001b[K     |█                               | 30 kB 9.7 MB/s eta 0:00:01\r\u001b[K     |█▌                              | 40 kB 8.9 MB/s eta 0:00:01\r\u001b[K     |█▉                              | 51 kB 5.4 MB/s eta 0:00:01\r\u001b[K     |██▏                             | 61 kB 5.9 MB/s eta 0:00:01\r\u001b[K     |██▋                             | 71 kB 5.4 MB/s eta 0:00:01\r\u001b[K     |███                             | 81 kB 6.1 MB/s eta 0:00:01\r\u001b[K     |███▎                            | 92 kB 6.3 MB/s eta 0:00:01\r\u001b[K     |███▋                            | 102 kB 5.3 MB/s eta 0:00:01\r\u001b[K     |████                            | 112 kB 5.3 MB/s eta 0:00:01\r\u001b[K     |████▍                           | 122 kB 5.3 MB/s eta 0:00:01\r\u001b[K     |████▊                           | 133 kB 5.3 MB/s eta 0:00:01\r\u001b[K     |█████▏                          | 143 kB 5.3 MB/s eta 0:00:01\r\u001b[K     |█████▌                          | 153 kB 5.3 MB/s eta 0:00:01\r\u001b[K     |█████▉                          | 163 kB 5.3 MB/s eta 0:00:01\r\u001b[K     |██████▎                         | 174 kB 5.3 MB/s eta 0:00:01\r\u001b[K     |██████▋                         | 184 kB 5.3 MB/s eta 0:00:01\r\u001b[K     |███████                         | 194 kB 5.3 MB/s eta 0:00:01\r\u001b[K     |███████▎                        | 204 kB 5.3 MB/s eta 0:00:01\r\u001b[K     |███████▊                        | 215 kB 5.3 MB/s eta 0:00:01\r\u001b[K     |████████                        | 225 kB 5.3 MB/s eta 0:00:01\r\u001b[K     |████████▍                       | 235 kB 5.3 MB/s eta 0:00:01\r\u001b[K     |████████▉                       | 245 kB 5.3 MB/s eta 0:00:01\r\u001b[K     |█████████▏                      | 256 kB 5.3 MB/s eta 0:00:01\r\u001b[K     |█████████▌                      | 266 kB 5.3 MB/s eta 0:00:01\r\u001b[K     |█████████▉                      | 276 kB 5.3 MB/s eta 0:00:01\r\u001b[K     |██████████▎                     | 286 kB 5.3 MB/s eta 0:00:01\r\u001b[K     |██████████▋                     | 296 kB 5.3 MB/s eta 0:00:01\r\u001b[K     |███████████                     | 307 kB 5.3 MB/s eta 0:00:01\r\u001b[K     |███████████▍                    | 317 kB 5.3 MB/s eta 0:00:01\r\u001b[K     |███████████▊                    | 327 kB 5.3 MB/s eta 0:00:01\r\u001b[K     |████████████                    | 337 kB 5.3 MB/s eta 0:00:01\r\u001b[K     |████████████▌                   | 348 kB 5.3 MB/s eta 0:00:01\r\u001b[K     |████████████▉                   | 358 kB 5.3 MB/s eta 0:00:01\r\u001b[K     |█████████████▏                  | 368 kB 5.3 MB/s eta 0:00:01\r\u001b[K     |█████████████▌                  | 378 kB 5.3 MB/s eta 0:00:01\r\u001b[K     |██████████████                  | 389 kB 5.3 MB/s eta 0:00:01\r\u001b[K     |██████████████▎                 | 399 kB 5.3 MB/s eta 0:00:01\r\u001b[K     |██████████████▋                 | 409 kB 5.3 MB/s eta 0:00:01\r\u001b[K     |███████████████                 | 419 kB 5.3 MB/s eta 0:00:01\r\u001b[K     |███████████████▍                | 430 kB 5.3 MB/s eta 0:00:01\r\u001b[K     |███████████████▊                | 440 kB 5.3 MB/s eta 0:00:01\r\u001b[K     |████████████████                | 450 kB 5.3 MB/s eta 0:00:01\r\u001b[K     |████████████████▌               | 460 kB 5.3 MB/s eta 0:00:01\r\u001b[K     |████████████████▉               | 471 kB 5.3 MB/s eta 0:00:01\r\u001b[K     |█████████████████▏              | 481 kB 5.3 MB/s eta 0:00:01\r\u001b[K     |█████████████████▋              | 491 kB 5.3 MB/s eta 0:00:01\r\u001b[K     |██████████████████              | 501 kB 5.3 MB/s eta 0:00:01\r\u001b[K     |██████████████████▎             | 512 kB 5.3 MB/s eta 0:00:01\r\u001b[K     |██████████████████▊             | 522 kB 5.3 MB/s eta 0:00:01\r\u001b[K     |███████████████████             | 532 kB 5.3 MB/s eta 0:00:01\r\u001b[K     |███████████████████▍            | 542 kB 5.3 MB/s eta 0:00:01\r\u001b[K     |███████████████████▊            | 552 kB 5.3 MB/s eta 0:00:01\r\u001b[K     |████████████████████▏           | 563 kB 5.3 MB/s eta 0:00:01\r\u001b[K     |████████████████████▌           | 573 kB 5.3 MB/s eta 0:00:01\r\u001b[K     |████████████████████▉           | 583 kB 5.3 MB/s eta 0:00:01\r\u001b[K     |█████████████████████▎          | 593 kB 5.3 MB/s eta 0:00:01\r\u001b[K     |█████████████████████▋          | 604 kB 5.3 MB/s eta 0:00:01\r\u001b[K     |██████████████████████          | 614 kB 5.3 MB/s eta 0:00:01\r\u001b[K     |██████████████████████▎         | 624 kB 5.3 MB/s eta 0:00:01\r\u001b[K     |██████████████████████▊         | 634 kB 5.3 MB/s eta 0:00:01\r\u001b[K     |███████████████████████         | 645 kB 5.3 MB/s eta 0:00:01\r\u001b[K     |███████████████████████▍        | 655 kB 5.3 MB/s eta 0:00:01\r\u001b[K     |███████████████████████▉        | 665 kB 5.3 MB/s eta 0:00:01\r\u001b[K     |████████████████████████▏       | 675 kB 5.3 MB/s eta 0:00:01\r\u001b[K     |████████████████████████▌       | 686 kB 5.3 MB/s eta 0:00:01\r\u001b[K     |█████████████████████████       | 696 kB 5.3 MB/s eta 0:00:01\r\u001b[K     |█████████████████████████▎      | 706 kB 5.3 MB/s eta 0:00:01\r\u001b[K     |█████████████████████████▋      | 716 kB 5.3 MB/s eta 0:00:01\r\u001b[K     |██████████████████████████      | 727 kB 5.3 MB/s eta 0:00:01\r\u001b[K     |██████████████████████████▍     | 737 kB 5.3 MB/s eta 0:00:01\r\u001b[K     |██████████████████████████▊     | 747 kB 5.3 MB/s eta 0:00:01\r\u001b[K     |███████████████████████████     | 757 kB 5.3 MB/s eta 0:00:01\r\u001b[K     |███████████████████████████▌    | 768 kB 5.3 MB/s eta 0:00:01\r\u001b[K     |███████████████████████████▉    | 778 kB 5.3 MB/s eta 0:00:01\r\u001b[K     |████████████████████████████▏   | 788 kB 5.3 MB/s eta 0:00:01\r\u001b[K     |████████████████████████████▌   | 798 kB 5.3 MB/s eta 0:00:01\r\u001b[K     |█████████████████████████████   | 808 kB 5.3 MB/s eta 0:00:01\r\u001b[K     |█████████████████████████████▎  | 819 kB 5.3 MB/s eta 0:00:01\r\u001b[K     |█████████████████████████████▋  | 829 kB 5.3 MB/s eta 0:00:01\r\u001b[K     |██████████████████████████████  | 839 kB 5.3 MB/s eta 0:00:01\r\u001b[K     |██████████████████████████████▍ | 849 kB 5.3 MB/s eta 0:00:01\r\u001b[K     |██████████████████████████████▊ | 860 kB 5.3 MB/s eta 0:00:01\r\u001b[K     |███████████████████████████████▏| 870 kB 5.3 MB/s eta 0:00:01\r\u001b[K     |███████████████████████████████▌| 880 kB 5.3 MB/s eta 0:00:01\r\u001b[K     |███████████████████████████████▉| 890 kB 5.3 MB/s eta 0:00:01\r\u001b[K     |████████████████████████████████| 895 kB 5.3 MB/s \n",
            "\u001b[?25hRequirement already satisfied: six in /usr/local/lib/python3.7/dist-packages (from sacremoses) (1.15.0)\n",
            "Requirement already satisfied: tqdm in /usr/local/lib/python3.7/dist-packages (from sacremoses) (4.62.3)\n",
            "Requirement already satisfied: click in /usr/local/lib/python3.7/dist-packages (from sacremoses) (7.1.2)\n",
            "Requirement already satisfied: regex in /usr/local/lib/python3.7/dist-packages (from sacremoses) (2019.12.20)\n",
            "Requirement already satisfied: joblib in /usr/local/lib/python3.7/dist-packages (from sacremoses) (1.0.1)\n",
            "Installing collected packages: sacremoses\n",
            "Successfully installed sacremoses-0.0.46\n"
          ]
        }
      ]
    },
    {
      "cell_type": "code",
      "metadata": {
        "colab": {
          "base_uri": "https://localhost:8080/"
        },
        "id": "eaBWxNzTsT0E",
        "outputId": "ca1f7fe9-84fd-4c39-d18b-167e4bb0745f"
      },
      "source": [
        "pip install simplejson"
      ],
      "execution_count": null,
      "outputs": [
        {
          "output_type": "stream",
          "name": "stdout",
          "text": [
            "Collecting simplejson\n",
            "  Downloading simplejson-3.17.5-cp37-cp37m-manylinux_2_5_x86_64.manylinux1_x86_64.manylinux_2_12_x86_64.manylinux2010_x86_64.whl (129 kB)\n",
            "\u001b[?25l\r\u001b[K     |██▌                             | 10 kB 19.7 MB/s eta 0:00:01\r\u001b[K     |█████                           | 20 kB 25.6 MB/s eta 0:00:01\r\u001b[K     |███████▋                        | 30 kB 12.9 MB/s eta 0:00:01\r\u001b[K     |██████████                      | 40 kB 9.6 MB/s eta 0:00:01\r\u001b[K     |████████████▋                   | 51 kB 5.2 MB/s eta 0:00:01\r\u001b[K     |███████████████▏                | 61 kB 5.8 MB/s eta 0:00:01\r\u001b[K     |█████████████████▋              | 71 kB 5.8 MB/s eta 0:00:01\r\u001b[K     |████████████████████▏           | 81 kB 6.5 MB/s eta 0:00:01\r\u001b[K     |██████████████████████▊         | 92 kB 6.5 MB/s eta 0:00:01\r\u001b[K     |█████████████████████████▎      | 102 kB 5.4 MB/s eta 0:00:01\r\u001b[K     |███████████████████████████▊    | 112 kB 5.4 MB/s eta 0:00:01\r\u001b[K     |██████████████████████████████▎ | 122 kB 5.4 MB/s eta 0:00:01\r\u001b[K     |████████████████████████████████| 129 kB 5.4 MB/s \n",
            "\u001b[?25hInstalling collected packages: simplejson\n",
            "Successfully installed simplejson-3.17.5\n"
          ]
        }
      ]
    },
    {
      "cell_type": "code",
      "metadata": {
        "colab": {
          "base_uri": "https://localhost:8080/"
        },
        "id": "zkAltd3qtNDm",
        "outputId": "e91a749d-45ec-4972-cc5c-08d960f97b36"
      },
      "source": [
        "pip install tensorboardX"
      ],
      "execution_count": null,
      "outputs": [
        {
          "output_type": "stream",
          "name": "stdout",
          "text": [
            "Collecting tensorboardX\n",
            "  Downloading tensorboardX-2.4-py2.py3-none-any.whl (124 kB)\n",
            "\u001b[?25l\r\u001b[K     |██▋                             | 10 kB 20.6 MB/s eta 0:00:01\r\u001b[K     |█████▎                          | 20 kB 10.9 MB/s eta 0:00:01\r\u001b[K     |████████                        | 30 kB 8.6 MB/s eta 0:00:01\r\u001b[K     |██████████▌                     | 40 kB 7.9 MB/s eta 0:00:01\r\u001b[K     |█████████████▏                  | 51 kB 5.3 MB/s eta 0:00:01\r\u001b[K     |███████████████▉                | 61 kB 5.8 MB/s eta 0:00:01\r\u001b[K     |██████████████████▍             | 71 kB 5.6 MB/s eta 0:00:01\r\u001b[K     |█████████████████████           | 81 kB 6.2 MB/s eta 0:00:01\r\u001b[K     |███████████████████████▊        | 92 kB 5.0 MB/s eta 0:00:01\r\u001b[K     |██████████████████████████▎     | 102 kB 5.4 MB/s eta 0:00:01\r\u001b[K     |█████████████████████████████   | 112 kB 5.4 MB/s eta 0:00:01\r\u001b[K     |███████████████████████████████▋| 122 kB 5.4 MB/s eta 0:00:01\r\u001b[K     |████████████████████████████████| 124 kB 5.4 MB/s \n",
            "\u001b[?25hRequirement already satisfied: protobuf>=3.8.0 in /usr/local/lib/python3.7/dist-packages (from tensorboardX) (3.17.3)\n",
            "Requirement already satisfied: numpy in /usr/local/lib/python3.7/dist-packages (from tensorboardX) (1.19.5)\n",
            "Requirement already satisfied: six>=1.9 in /usr/local/lib/python3.7/dist-packages (from protobuf>=3.8.0->tensorboardX) (1.15.0)\n",
            "Installing collected packages: tensorboardX\n",
            "Successfully installed tensorboardX-2.4\n"
          ]
        }
      ]
    },
    {
      "cell_type": "code",
      "metadata": {
        "colab": {
          "base_uri": "https://localhost:8080/"
        },
        "id": "vGbLZTpQsQFd",
        "outputId": "ffcad12b-b21e-42bd-a728-974f7fbca3f4"
      },
      "source": [
        "import torch\n",
        "import numpy as np\n",
        "from six.moves import urllib\n",
        "from torchtext.legacy import data\n",
        "from torch.utils.data import Dataset\n",
        "import nltk\n",
        "nltk.download('perluniprops')\n",
        "nltk.download('nonbreaking_prefixes')\n",
        "from nltk.tokenize.moses import MosesTokenizer\n",
        "from sacremoses import MosesTokenizer\n",
        "import simplejson as json\n",
        "import tensorboardX"
      ],
      "execution_count": null,
      "outputs": [
        {
          "output_type": "stream",
          "name": "stdout",
          "text": [
            "[nltk_data] Downloading package perluniprops to /root/nltk_data...\n",
            "[nltk_data]   Unzipping misc/perluniprops.zip.\n",
            "[nltk_data] Downloading package nonbreaking_prefixes to\n",
            "[nltk_data]     /root/nltk_data...\n",
            "[nltk_data]   Unzipping corpora/nonbreaking_prefixes.zip.\n"
          ]
        }
      ]
    },
    {
      "cell_type": "code",
      "metadata": {
        "id": "TnhepERcsiB9"
      },
      "source": [
        "!python /content/GCAE/models/__init__.py\n",
        "!python /content/GCAE/models/gcae_acsa.py\n",
        "!python /content/GCAE/models/gcae_atsa.py\n",
        "!python /content/GCAE/models/gcn_acsa.py"
      ],
      "execution_count": null,
      "outputs": []
    },
    {
      "cell_type": "code",
      "metadata": {
        "id": "D68DJVzss0wr"
      },
      "source": [
        "!python /content/GCAE/models/textcnn_acsa.py\n",
        "!python /content/GCAE/mydatasets.py"
      ],
      "execution_count": null,
      "outputs": []
    },
    {
      "cell_type": "code",
      "metadata": {
        "id": "NNzjSzxos9gA"
      },
      "source": [
        "!python /content/GCAE/w2v.py"
      ],
      "execution_count": null,
      "outputs": []
    },
    {
      "cell_type": "code",
      "metadata": {
        "colab": {
          "base_uri": "https://localhost:8080/"
        },
        "id": "_q-lD4X9Dlnc",
        "outputId": "814f0729-2f71-4b56-e8d6-4315f677a170"
      },
      "source": [
        "#ACSA 2014 Dataset\n",
        "%cd /content/GCAE\n",
        "%run train -lr 1e-2 -batch_size 32 -model gcae_acsa -acsa_data 2014 -epochs 10"
      ],
      "execution_count": null,
      "outputs": [
        {
          "name": "stdout",
          "output_type": "stream",
          "text": [
            "/content/GCAE\n",
            "3713\n",
            "1025\n",
            "89\n"
          ]
        },
        {
          "name": "stderr",
          "output_type": "stream",
          "text": [
            "100%|█████████▉| 2196017/2196018 [04:35<00:00, 7967.07it/s]\n"
          ]
        },
        {
          "name": "stdout",
          "output_type": "stream",
          "text": [
            "repeat:  0\n",
            ">>>>>>>>>>>>>>>>>>>>>>>>>>>>>>>>>>>>>>>>>>>>>>>>>>\n",
            "epoch  0\n"
          ]
        },
        {
          "name": "stderr",
          "output_type": "stream",
          "text": [
            "/content/GCAE/models/gcae_acsa.py:41: UserWarning: Named tensors and all their associated APIs are an experimental feature and subject to change. Please do not use them for anything important until they are released as stable. (Triggered internally at  /pytorch/c10/core/TensorImpl.h:1156.)\n",
            "  x0 = [torch.max_pool1d(i, i.size(2)).squeeze(2) for i in x]  # [(N,Co), ...]*len(Ks)\n"
          ]
        },
        {
          "name": "stdout",
          "output_type": "stream",
          "text": [
            ">> saved: state_dict/gcae_acsa_2014_acc0.2166_0.2921\n",
            "loss: 1.4277, train_acc: 0.1875, test_acc: 0.2166, hard_test_acc: 0.2921\n",
            ">> saved: state_dict/gcae_acsa_2014_acc0.64_0.3596\n",
            "loss: 1.5015, train_acc: 0.1875, test_acc: 0.6400, hard_test_acc: 0.3596\n",
            ">> saved: state_dict/gcae_acsa_2014_acc0.641_0.3596\n",
            "loss: 1.1785, train_acc: 0.3125, test_acc: 0.6410, hard_test_acc: 0.3596\n",
            ">> saved: state_dict/gcae_acsa_2014_acc0.6449_0.3596\n",
            "loss: 1.0614, train_acc: 0.5268, test_acc: 0.6449, hard_test_acc: 0.3596\n",
            ">> saved: state_dict/gcae_acsa_2014_acc0.6459_0.3596\n",
            "loss: 0.9193, train_acc: 0.5354, test_acc: 0.6459, hard_test_acc: 0.3596\n",
            ">> saved: state_dict/gcae_acsa_2014_acc0.6517_0.382\n",
            "loss: 1.1340, train_acc: 0.5352, test_acc: 0.6517, hard_test_acc: 0.3820\n",
            ">> saved: state_dict/gcae_acsa_2014_acc0.6537_0.3483\n",
            "loss: 1.1122, train_acc: 0.5432, test_acc: 0.6537, hard_test_acc: 0.3483\n",
            ">> saved: state_dict/gcae_acsa_2014_acc0.6624_0.3708\n",
            "loss: 1.0416, train_acc: 0.5412, test_acc: 0.6624, hard_test_acc: 0.3708\n",
            ">> saved: state_dict/gcae_acsa_2014_acc0.6732_0.3596\n",
            "loss: 1.0960, train_acc: 0.5567, test_acc: 0.6732, hard_test_acc: 0.3596\n",
            ">> saved: state_dict/gcae_acsa_2014_acc0.679_0.3596\n",
            "loss: 0.9243, train_acc: 0.5496, test_acc: 0.6790, hard_test_acc: 0.3596\n",
            ">> saved: state_dict/gcae_acsa_2014_acc0.6839_0.3708\n",
            "loss: 1.0112, train_acc: 0.5694, test_acc: 0.6839, hard_test_acc: 0.3708\n",
            ">> saved: state_dict/gcae_acsa_2014_acc0.6868_0.4045\n",
            "loss: 1.0372, train_acc: 0.5710, test_acc: 0.6868, hard_test_acc: 0.4045\n",
            ">> saved: state_dict/gcae_acsa_2014_acc0.6878_0.382\n",
            "loss: 1.0987, train_acc: 0.5686, test_acc: 0.6878, hard_test_acc: 0.3820\n",
            ">> saved: state_dict/gcae_acsa_2014_acc0.7005_0.3933\n",
            "loss: 0.9591, train_acc: 0.5685, test_acc: 0.7005, hard_test_acc: 0.3933\n",
            ">> saved: state_dict/gcae_acsa_2014_acc0.7044_0.3933\n",
            "loss: 1.0911, train_acc: 0.5729, test_acc: 0.7044, hard_test_acc: 0.3933\n",
            ">> saved: state_dict/gcae_acsa_2014_acc0.7083_0.4045\n",
            "loss: 0.8384, train_acc: 0.5731, test_acc: 0.7083, hard_test_acc: 0.4045\n",
            ">> saved: state_dict/gcae_acsa_2014_acc0.7093_0.3933\n",
            "loss: 0.8327, train_acc: 0.5875, test_acc: 0.7093, hard_test_acc: 0.3933\n",
            ">> saved: state_dict/gcae_acsa_2014_acc0.7112_0.4045\n",
            "loss: 0.8056, train_acc: 0.5907, test_acc: 0.7112, hard_test_acc: 0.4045\n",
            ">> saved: state_dict/gcae_acsa_2014_acc0.7229_0.4045\n",
            "loss: 0.6961, train_acc: 0.5932, test_acc: 0.7229, hard_test_acc: 0.4045\n",
            ">> saved: state_dict/gcae_acsa_2014_acc0.7288_0.427\n",
            "loss: 0.6205, train_acc: 0.6049, test_acc: 0.7288, hard_test_acc: 0.4270\n",
            ">> saved: state_dict/gcae_acsa_2014_acc0.7356_0.4157\n",
            "loss: 0.9647, train_acc: 0.6063, test_acc: 0.7356, hard_test_acc: 0.4157\n",
            ">> saved: state_dict/gcae_acsa_2014_acc0.7385_0.382\n",
            "loss: 0.7755, train_acc: 0.6153, test_acc: 0.7385, hard_test_acc: 0.3820\n",
            ">> saved: state_dict/gcae_acsa_2014_acc0.7483_0.382\n",
            "loss: 0.8396, train_acc: 0.6137, test_acc: 0.7483, hard_test_acc: 0.3820\n",
            ">> saved: state_dict/gcae_acsa_2014_acc0.7532_0.4157\n",
            "loss: 0.6676, train_acc: 0.6139, test_acc: 0.7532, hard_test_acc: 0.4157\n",
            ">>>>>>>>>>>>>>>>>>>>>>>>>>>>>>>>>>>>>>>>>>>>>>>>>>\n",
            "epoch  1\n",
            ">> saved: state_dict/gcae_acsa_2014_acc0.7541_0.4382\n",
            "loss: 0.7210, train_acc: 0.7943, test_acc: 0.7541, hard_test_acc: 0.4382\n",
            ">> saved: state_dict/gcae_acsa_2014_acc0.7561_0.4382\n",
            "loss: 0.4286, train_acc: 0.7947, test_acc: 0.7561, hard_test_acc: 0.4382\n",
            ">>>>>>>>>>>>>>>>>>>>>>>>>>>>>>>>>>>>>>>>>>>>>>>>>>\n",
            "epoch  2\n",
            ">> saved: state_dict/gcae_acsa_2014_acc0.762_0.427\n",
            "loss: 0.4391, train_acc: 0.9062, test_acc: 0.7620, hard_test_acc: 0.4270\n",
            ">>>>>>>>>>>>>>>>>>>>>>>>>>>>>>>>>>>>>>>>>>>>>>>>>>\n",
            "epoch  3\n",
            ">>>>>>>>>>>>>>>>>>>>>>>>>>>>>>>>>>>>>>>>>>>>>>>>>>\n",
            "epoch  4\n",
            ">>>>>>>>>>>>>>>>>>>>>>>>>>>>>>>>>>>>>>>>>>>>>>>>>>\n",
            "epoch  5\n",
            ">> saved: state_dict/gcae_acsa_2014_acc0.7629_0.427\n",
            "loss: 0.1266, train_acc: 0.9264, test_acc: 0.7629, hard_test_acc: 0.4270\n",
            ">>>>>>>>>>>>>>>>>>>>>>>>>>>>>>>>>>>>>>>>>>>>>>>>>>\n",
            "epoch  6\n",
            ">>>>>>>>>>>>>>>>>>>>>>>>>>>>>>>>>>>>>>>>>>>>>>>>>>\n",
            "epoch  7\n",
            ">>>>>>>>>>>>>>>>>>>>>>>>>>>>>>>>>>>>>>>>>>>>>>>>>>\n",
            "epoch  8\n",
            ">>>>>>>>>>>>>>>>>>>>>>>>>>>>>>>>>>>>>>>>>>>>>>>>>>\n",
            "epoch  9\n",
            "max_test_acc: 0.7629268292682927 max_hard_test_acc: 0.42696629213483145 \n",
            "####################################################################################################\n",
            "max_test_acc_overall: 0.7629268292682927 max_hard_test_acc_overall: 0.42696629213483145 \n",
            "max_test_acc_overall_ave: 0.7629268292682927 max_hard_test_acc_overall_ave: 0.42696629213483145 \n"
          ]
        }
      ]
    },
    {
      "cell_type": "code",
      "metadata": {
        "colab": {
          "base_uri": "https://localhost:8080/"
        },
        "id": "zPcNcsThXVe_",
        "outputId": "1b391a71-9b11-4aed-8537-9d75c95691d4"
      },
      "source": [
        "#ACSA Large Dataset\n",
        "%cd /content/GCAE\n",
        "%run train -lr 1e-2 -batch_size 32 -model gcae_acsa -acsa_data large -epochs 13"
      ],
      "execution_count": null,
      "outputs": [
        {
          "name": "stdout",
          "output_type": "stream",
          "text": [
            "/content/GCAE\n",
            "4665\n",
            "2426\n",
            "234\n",
            "repeat:  0\n",
            ">>>>>>>>>>>>>>>>>>>>>>>>>>>>>>>>>>>>>>>>>>>>>>>>>>\n",
            "epoch  0\n",
            ">> saved: state_dict/gcae_acsa_large_acc0.6204_0.3932\n",
            "loss: 1.0454, train_acc: 0.5938, test_acc: 0.6204, hard_test_acc: 0.3932\n",
            ">> saved: state_dict/gcae_acsa_large_acc0.6245_0.3974\n",
            "loss: 0.9441, train_acc: 0.5682, test_acc: 0.6245, hard_test_acc: 0.3974\n",
            ">> saved: state_dict/gcae_acsa_large_acc0.6307_0.4017\n",
            "loss: 0.8874, train_acc: 0.5745, test_acc: 0.6307, hard_test_acc: 0.4017\n",
            ">> saved: state_dict/gcae_acsa_large_acc0.641_0.4103\n",
            "loss: 1.0065, train_acc: 0.5703, test_acc: 0.6410, hard_test_acc: 0.4103\n",
            ">> saved: state_dict/gcae_acsa_large_acc0.6459_0.4188\n",
            "loss: 0.9543, train_acc: 0.5747, test_acc: 0.6459, hard_test_acc: 0.4188\n",
            ">> saved: state_dict/gcae_acsa_large_acc0.6467_0.4103\n",
            "loss: 1.0146, train_acc: 0.5691, test_acc: 0.6467, hard_test_acc: 0.4103\n",
            ">> saved: state_dict/gcae_acsa_large_acc0.6525_0.4274\n",
            "loss: 0.7708, train_acc: 0.5729, test_acc: 0.6525, hard_test_acc: 0.4274\n",
            ">> saved: state_dict/gcae_acsa_large_acc0.6603_0.4188\n",
            "loss: 0.8594, train_acc: 0.5724, test_acc: 0.6603, hard_test_acc: 0.4188\n",
            ">> saved: state_dict/gcae_acsa_large_acc0.6678_0.4231\n",
            "loss: 0.8100, train_acc: 0.5737, test_acc: 0.6678, hard_test_acc: 0.4231\n",
            ">> saved: state_dict/gcae_acsa_large_acc0.6723_0.4316\n",
            "loss: 0.6170, train_acc: 0.5805, test_acc: 0.6723, hard_test_acc: 0.4316\n",
            ">> saved: state_dict/gcae_acsa_large_acc0.6818_0.4359\n",
            "loss: 0.8677, train_acc: 0.5781, test_acc: 0.6818, hard_test_acc: 0.4359\n",
            ">> saved: state_dict/gcae_acsa_large_acc0.6876_0.4231\n",
            "loss: 0.7402, train_acc: 0.5811, test_acc: 0.6876, hard_test_acc: 0.4231\n",
            ">> saved: state_dict/gcae_acsa_large_acc0.69_0.4316\n",
            "loss: 0.7874, train_acc: 0.5833, test_acc: 0.6900, hard_test_acc: 0.4316\n",
            ">> saved: state_dict/gcae_acsa_large_acc0.6995_0.4231\n",
            "loss: 0.7244, train_acc: 0.5839, test_acc: 0.6995, hard_test_acc: 0.4231\n",
            ">> saved: state_dict/gcae_acsa_large_acc0.7003_0.4231\n",
            "loss: 0.6592, train_acc: 0.5885, test_acc: 0.7003, hard_test_acc: 0.4231\n",
            ">> saved: state_dict/gcae_acsa_large_acc0.7032_0.4444\n",
            "loss: 0.8699, train_acc: 0.5978, test_acc: 0.7032, hard_test_acc: 0.4444\n",
            ">> saved: state_dict/gcae_acsa_large_acc0.7073_0.4402\n",
            "loss: 0.7942, train_acc: 0.6008, test_acc: 0.7073, hard_test_acc: 0.4402\n",
            ">> saved: state_dict/gcae_acsa_large_acc0.7077_0.4487\n",
            "loss: 0.7573, train_acc: 0.6014, test_acc: 0.7077, hard_test_acc: 0.4487\n",
            ">> saved: state_dict/gcae_acsa_large_acc0.7135_0.4402\n",
            "loss: 0.7175, train_acc: 0.6034, test_acc: 0.7135, hard_test_acc: 0.4402\n",
            ">> saved: state_dict/gcae_acsa_large_acc0.7172_0.4359\n",
            "loss: 0.8526, train_acc: 0.6047, test_acc: 0.7172, hard_test_acc: 0.4359\n",
            ">> saved: state_dict/gcae_acsa_large_acc0.7193_0.4402\n",
            "loss: 0.6097, train_acc: 0.6094, test_acc: 0.7193, hard_test_acc: 0.4402\n",
            ">> saved: state_dict/gcae_acsa_large_acc0.7279_0.4487\n",
            "loss: 0.8731, train_acc: 0.6183, test_acc: 0.7279, hard_test_acc: 0.4487\n",
            ">> saved: state_dict/gcae_acsa_large_acc0.7288_0.453\n",
            "loss: 0.7952, train_acc: 0.6211, test_acc: 0.7288, hard_test_acc: 0.4530\n",
            ">> saved: state_dict/gcae_acsa_large_acc0.7308_0.4615\n",
            "loss: 0.8765, train_acc: 0.6207, test_acc: 0.7308, hard_test_acc: 0.4615\n",
            ">> saved: state_dict/gcae_acsa_large_acc0.7399_0.4615\n",
            "loss: 1.0869, train_acc: 0.6158, test_acc: 0.7399, hard_test_acc: 0.4615\n",
            ">> saved: state_dict/gcae_acsa_large_acc0.7461_0.4658\n",
            "loss: 0.7029, train_acc: 0.6209, test_acc: 0.7461, hard_test_acc: 0.4658\n",
            ">> saved: state_dict/gcae_acsa_large_acc0.7469_0.4615\n",
            "loss: 0.7050, train_acc: 0.6219, test_acc: 0.7469, hard_test_acc: 0.4615\n",
            ">> saved: state_dict/gcae_acsa_large_acc0.7531_0.4701\n",
            "loss: 0.8271, train_acc: 0.6234, test_acc: 0.7531, hard_test_acc: 0.4701\n",
            ">> saved: state_dict/gcae_acsa_large_acc0.7535_0.4615\n",
            "loss: 0.6557, train_acc: 0.6269, test_acc: 0.7535, hard_test_acc: 0.4615\n",
            ">> saved: state_dict/gcae_acsa_large_acc0.7556_0.4744\n",
            "loss: 0.7072, train_acc: 0.6278, test_acc: 0.7556, hard_test_acc: 0.4744\n",
            ">> saved: state_dict/gcae_acsa_large_acc0.7626_0.4786\n",
            "loss: 0.8094, train_acc: 0.6302, test_acc: 0.7626, hard_test_acc: 0.4786\n",
            ">> saved: state_dict/gcae_acsa_large_acc0.7638_0.4786\n",
            "loss: 0.7046, train_acc: 0.6368, test_acc: 0.7638, hard_test_acc: 0.4786\n",
            ">> saved: state_dict/gcae_acsa_large_acc0.7642_0.4829\n",
            "loss: 0.7033, train_acc: 0.6382, test_acc: 0.7642, hard_test_acc: 0.4829\n",
            ">> saved: state_dict/gcae_acsa_large_acc0.7692_0.4701\n",
            "loss: 0.7250, train_acc: 0.6389, test_acc: 0.7692, hard_test_acc: 0.4701\n",
            ">> saved: state_dict/gcae_acsa_large_acc0.7704_0.4701\n",
            "loss: 0.6805, train_acc: 0.6400, test_acc: 0.7704, hard_test_acc: 0.4701\n",
            ">> saved: state_dict/gcae_acsa_large_acc0.7754_0.4829\n",
            "loss: 0.6121, train_acc: 0.6445, test_acc: 0.7754, hard_test_acc: 0.4829\n",
            ">> saved: state_dict/gcae_acsa_large_acc0.7762_0.4786\n",
            "loss: 0.6893, train_acc: 0.6438, test_acc: 0.7762, hard_test_acc: 0.4786\n",
            ">> saved: state_dict/gcae_acsa_large_acc0.7782_0.4786\n",
            "loss: 0.7976, train_acc: 0.6448, test_acc: 0.7782, hard_test_acc: 0.4786\n",
            ">> saved: state_dict/gcae_acsa_large_acc0.7811_0.4829\n",
            "loss: 0.8794, train_acc: 0.6466, test_acc: 0.7811, hard_test_acc: 0.4829\n",
            ">> saved: state_dict/gcae_acsa_large_acc0.7848_0.4786\n",
            "loss: 0.8814, train_acc: 0.6491, test_acc: 0.7848, hard_test_acc: 0.4786\n",
            ">> saved: state_dict/gcae_acsa_large_acc0.7885_0.4829\n",
            "loss: 0.7028, train_acc: 0.6546, test_acc: 0.7885, hard_test_acc: 0.4829\n",
            ">>>>>>>>>>>>>>>>>>>>>>>>>>>>>>>>>>>>>>>>>>>>>>>>>>\n",
            "epoch  1\n",
            ">> saved: state_dict/gcae_acsa_large_acc0.7927_0.4915\n",
            "loss: 0.4941, train_acc: 0.8036, test_acc: 0.7927, hard_test_acc: 0.4915\n",
            ">> saved: state_dict/gcae_acsa_large_acc0.7955_0.4915\n",
            "loss: 0.3779, train_acc: 0.8017, test_acc: 0.7955, hard_test_acc: 0.4915\n",
            ">> saved: state_dict/gcae_acsa_large_acc0.7964_0.4829\n",
            "loss: 0.6342, train_acc: 0.8026, test_acc: 0.7964, hard_test_acc: 0.4829\n",
            ">> saved: state_dict/gcae_acsa_large_acc0.7988_0.4786\n",
            "loss: 0.4211, train_acc: 0.8035, test_acc: 0.7988, hard_test_acc: 0.4786\n",
            ">> saved: state_dict/gcae_acsa_large_acc0.7993_0.4829\n",
            "loss: 0.7774, train_acc: 0.8051, test_acc: 0.7993, hard_test_acc: 0.4829\n",
            ">> saved: state_dict/gcae_acsa_large_acc0.8001_0.4786\n",
            "loss: 0.4714, train_acc: 0.8064, test_acc: 0.8001, hard_test_acc: 0.4786\n",
            ">> saved: state_dict/gcae_acsa_large_acc0.8026_0.4872\n",
            "loss: 0.4517, train_acc: 0.8051, test_acc: 0.8026, hard_test_acc: 0.4872\n",
            ">> saved: state_dict/gcae_acsa_large_acc0.8038_0.4658\n",
            "loss: 0.3938, train_acc: 0.8046, test_acc: 0.8038, hard_test_acc: 0.4658\n",
            ">> saved: state_dict/gcae_acsa_large_acc0.8054_0.4786\n",
            "loss: 0.5807, train_acc: 0.8031, test_acc: 0.8054, hard_test_acc: 0.4786\n",
            ">> saved: state_dict/gcae_acsa_large_acc0.81_0.4786\n",
            "loss: 0.4135, train_acc: 0.8024, test_acc: 0.8100, hard_test_acc: 0.4786\n",
            ">> saved: state_dict/gcae_acsa_large_acc0.8112_0.4872\n",
            "loss: 0.4868, train_acc: 0.8013, test_acc: 0.8112, hard_test_acc: 0.4872\n",
            ">> saved: state_dict/gcae_acsa_large_acc0.8116_0.4915\n",
            "loss: 0.5903, train_acc: 0.8009, test_acc: 0.8116, hard_test_acc: 0.4915\n",
            ">> saved: state_dict/gcae_acsa_large_acc0.8162_0.4829\n",
            "loss: 0.5287, train_acc: 0.8012, test_acc: 0.8162, hard_test_acc: 0.4829\n",
            ">>>>>>>>>>>>>>>>>>>>>>>>>>>>>>>>>>>>>>>>>>>>>>>>>>\n",
            "epoch  2\n",
            ">> saved: state_dict/gcae_acsa_large_acc0.817_0.4872\n",
            "loss: 0.2977, train_acc: 0.8750, test_acc: 0.8170, hard_test_acc: 0.4872\n",
            ">> saved: state_dict/gcae_acsa_large_acc0.8182_0.4615\n",
            "loss: 0.1987, train_acc: 0.8899, test_acc: 0.8182, hard_test_acc: 0.4615\n",
            ">> saved: state_dict/gcae_acsa_large_acc0.8199_0.4615\n",
            "loss: 0.2347, train_acc: 0.8899, test_acc: 0.8199, hard_test_acc: 0.4615\n",
            ">> saved: state_dict/gcae_acsa_large_acc0.8223_0.4744\n",
            "loss: 0.2262, train_acc: 0.8839, test_acc: 0.8223, hard_test_acc: 0.4744\n",
            ">> saved: state_dict/gcae_acsa_large_acc0.8232_0.4829\n",
            "loss: 0.3438, train_acc: 0.8831, test_acc: 0.8232, hard_test_acc: 0.4829\n",
            ">>>>>>>>>>>>>>>>>>>>>>>>>>>>>>>>>>>>>>>>>>>>>>>>>>\n",
            "epoch  3\n",
            ">>>>>>>>>>>>>>>>>>>>>>>>>>>>>>>>>>>>>>>>>>>>>>>>>>\n",
            "epoch  4\n",
            ">> saved: state_dict/gcae_acsa_large_acc0.824_0.4786\n",
            "loss: 0.1765, train_acc: 0.9536, test_acc: 0.8240, hard_test_acc: 0.4786\n",
            ">> saved: state_dict/gcae_acsa_large_acc0.8252_0.4829\n",
            "loss: 0.0895, train_acc: 0.9541, test_acc: 0.8252, hard_test_acc: 0.4829\n",
            ">> saved: state_dict/gcae_acsa_large_acc0.8261_0.4744\n",
            "loss: 0.2356, train_acc: 0.9254, test_acc: 0.8261, hard_test_acc: 0.4744\n",
            ">>>>>>>>>>>>>>>>>>>>>>>>>>>>>>>>>>>>>>>>>>>>>>>>>>\n",
            "epoch  5\n",
            ">>>>>>>>>>>>>>>>>>>>>>>>>>>>>>>>>>>>>>>>>>>>>>>>>>\n",
            "epoch  6\n",
            ">>>>>>>>>>>>>>>>>>>>>>>>>>>>>>>>>>>>>>>>>>>>>>>>>>\n",
            "epoch  7\n",
            ">>>>>>>>>>>>>>>>>>>>>>>>>>>>>>>>>>>>>>>>>>>>>>>>>>\n",
            "epoch  8\n",
            ">>>>>>>>>>>>>>>>>>>>>>>>>>>>>>>>>>>>>>>>>>>>>>>>>>\n",
            "epoch  9\n",
            ">>>>>>>>>>>>>>>>>>>>>>>>>>>>>>>>>>>>>>>>>>>>>>>>>>\n",
            "epoch  10\n",
            ">>>>>>>>>>>>>>>>>>>>>>>>>>>>>>>>>>>>>>>>>>>>>>>>>>\n",
            "epoch  11\n",
            ">>>>>>>>>>>>>>>>>>>>>>>>>>>>>>>>>>>>>>>>>>>>>>>>>>\n",
            "epoch  12\n",
            "max_test_acc: 0.8260511129431163 max_hard_test_acc: 0.47435897435897434 \n",
            "####################################################################################################\n",
            "max_test_acc_overall: 0.8260511129431163 max_hard_test_acc_overall: 0.47435897435897434 \n",
            "max_test_acc_overall_ave: 0.8260511129431163 max_hard_test_acc_overall_ave: 0.47435897435897434 \n"
          ]
        }
      ]
    },
    {
      "cell_type": "code",
      "metadata": {
        "id": "_4XZS7YqGWuX",
        "colab": {
          "base_uri": "https://localhost:8080/"
        },
        "outputId": "aa922988-adac-454c-dd29-bb54f6061b8d"
      },
      "source": [
        "#ATSA Restaurant Dataset\n",
        "%cd /content/GCAE\n",
        "%run train -atsa -lr 5e-3 -batch_size 32 -model gcae_atsa -atsa_data rest -epochs 10"
      ],
      "execution_count": null,
      "outputs": [
        {
          "output_type": "stream",
          "name": "stdout",
          "text": [
            "/content/GCAE\n",
            "3693\n",
            "1134\n",
            "245\n"
          ]
        },
        {
          "output_type": "stream",
          "name": "stderr",
          "text": [
            "100%|█████████▉| 2196017/2196018 [05:03<00:00, 7232.70it/s]\n"
          ]
        },
        {
          "output_type": "stream",
          "name": "stdout",
          "text": [
            "atsa model\n",
            "repeat:  0\n",
            ">>>>>>>>>>>>>>>>>>>>>>>>>>>>>>>>>>>>>>>>>>>>>>>>>>\n",
            "epoch  0\n"
          ]
        },
        {
          "output_type": "stream",
          "name": "stderr",
          "text": [
            "/content/GCAE/models/gcae_atsa.py:42: UserWarning: Named tensors and all their associated APIs are an experimental feature and subject to change. Please do not use them for anything important until they are released as stable. (Triggered internally at  /pytorch/c10/core/TensorImpl.h:1156.)\n",
            "  aa = [torch.max_pool1d(a, a.size(2)).squeeze(2) for a in aa]\n"
          ]
        },
        {
          "output_type": "stream",
          "name": "stdout",
          "text": [
            ">> saved: state_dict/gcae_atsa_rest_acc0.642_0.3755\n",
            "loss: 1.2666, train_acc: 0.5938, test_acc: 0.6420, hard_test_acc: 0.3755\n",
            ">> saved: state_dict/gcae_atsa_rest_acc0.6446_0.3755\n",
            "loss: 1.0922, train_acc: 0.5889, test_acc: 0.6446, hard_test_acc: 0.3755\n",
            ">> saved: state_dict/gcae_atsa_rest_acc0.6455_0.3755\n",
            "loss: 1.1104, train_acc: 0.5946, test_acc: 0.6455, hard_test_acc: 0.3755\n",
            ">> saved: state_dict/gcae_atsa_rest_acc0.6473_0.3755\n",
            "loss: 1.1067, train_acc: 0.5906, test_acc: 0.6473, hard_test_acc: 0.3755\n",
            ">> saved: state_dict/gcae_atsa_rest_acc0.6578_0.4041\n",
            "loss: 0.9625, train_acc: 0.5933, test_acc: 0.6578, hard_test_acc: 0.4041\n",
            ">> saved: state_dict/gcae_atsa_rest_acc0.6587_0.4082\n",
            "loss: 0.8141, train_acc: 0.5938, test_acc: 0.6587, hard_test_acc: 0.4082\n",
            ">> saved: state_dict/gcae_atsa_rest_acc0.6631_0.4041\n",
            "loss: 0.9252, train_acc: 0.5942, test_acc: 0.6631, hard_test_acc: 0.4041\n",
            ">> saved: state_dict/gcae_atsa_rest_acc0.6684_0.4082\n",
            "loss: 0.8622, train_acc: 0.5938, test_acc: 0.6684, hard_test_acc: 0.4082\n",
            ">> saved: state_dict/gcae_atsa_rest_acc0.6737_0.4245\n",
            "loss: 0.9395, train_acc: 0.5938, test_acc: 0.6737, hard_test_acc: 0.4245\n",
            ">> saved: state_dict/gcae_atsa_rest_acc0.6755_0.4122\n",
            "loss: 0.8573, train_acc: 0.5946, test_acc: 0.6755, hard_test_acc: 0.4122\n",
            ">> saved: state_dict/gcae_atsa_rest_acc0.6869_0.449\n",
            "loss: 1.1932, train_acc: 0.5929, test_acc: 0.6869, hard_test_acc: 0.4490\n",
            ">> saved: state_dict/gcae_atsa_rest_acc0.6905_0.4531\n",
            "loss: 1.0834, train_acc: 0.5925, test_acc: 0.6905, hard_test_acc: 0.4531\n",
            ">> saved: state_dict/gcae_atsa_rest_acc0.6931_0.449\n",
            "loss: 0.9432, train_acc: 0.5909, test_acc: 0.6931, hard_test_acc: 0.4490\n",
            ">> saved: state_dict/gcae_atsa_rest_acc0.6958_0.4776\n",
            "loss: 0.9062, train_acc: 0.6134, test_acc: 0.6958, hard_test_acc: 0.4776\n",
            ">> saved: state_dict/gcae_atsa_rest_acc0.6993_0.4776\n",
            "loss: 1.0478, train_acc: 0.6142, test_acc: 0.6993, hard_test_acc: 0.4776\n",
            ">> saved: state_dict/gcae_atsa_rest_acc0.7002_0.4694\n",
            "loss: 0.9182, train_acc: 0.6140, test_acc: 0.7002, hard_test_acc: 0.4694\n",
            ">> saved: state_dict/gcae_atsa_rest_acc0.7011_0.4735\n",
            "loss: 0.9217, train_acc: 0.6149, test_acc: 0.7011, hard_test_acc: 0.4735\n",
            ">> saved: state_dict/gcae_atsa_rest_acc0.7063_0.4776\n",
            "loss: 0.9842, train_acc: 0.6162, test_acc: 0.7063, hard_test_acc: 0.4776\n",
            ">> saved: state_dict/gcae_atsa_rest_acc0.7099_0.4776\n",
            "loss: 0.7368, train_acc: 0.6189, test_acc: 0.7099, hard_test_acc: 0.4776\n",
            ">>>>>>>>>>>>>>>>>>>>>>>>>>>>>>>>>>>>>>>>>>>>>>>>>>\n",
            "epoch  1\n",
            ">> saved: state_dict/gcae_atsa_rest_acc0.7108_0.4776\n",
            "loss: 0.9471, train_acc: 0.7552, test_acc: 0.7108, hard_test_acc: 0.4776\n",
            ">> saved: state_dict/gcae_atsa_rest_acc0.7169_0.4898\n",
            "loss: 0.5950, train_acc: 0.7396, test_acc: 0.7169, hard_test_acc: 0.4898\n",
            ">> saved: state_dict/gcae_atsa_rest_acc0.7196_0.4939\n",
            "loss: 0.9034, train_acc: 0.7448, test_acc: 0.7196, hard_test_acc: 0.4939\n",
            ">> saved: state_dict/gcae_atsa_rest_acc0.7205_0.4898\n",
            "loss: 0.6206, train_acc: 0.7560, test_acc: 0.7205, hard_test_acc: 0.4898\n",
            ">> saved: state_dict/gcae_atsa_rest_acc0.7213_0.4939\n",
            "loss: 0.5648, train_acc: 0.7558, test_acc: 0.7213, hard_test_acc: 0.4939\n",
            ">> saved: state_dict/gcae_atsa_rest_acc0.7249_0.5061\n",
            "loss: 0.7478, train_acc: 0.7596, test_acc: 0.7249, hard_test_acc: 0.5061\n",
            ">> saved: state_dict/gcae_atsa_rest_acc0.7275_0.5224\n",
            "loss: 0.4955, train_acc: 0.7630, test_acc: 0.7275, hard_test_acc: 0.5224\n",
            ">> saved: state_dict/gcae_atsa_rest_acc0.7293_0.5306\n",
            "loss: 0.5268, train_acc: 0.7667, test_acc: 0.7293, hard_test_acc: 0.5306\n",
            ">> saved: state_dict/gcae_atsa_rest_acc0.7302_0.5265\n",
            "loss: 0.7001, train_acc: 0.7635, test_acc: 0.7302, hard_test_acc: 0.5265\n",
            ">> saved: state_dict/gcae_atsa_rest_acc0.7337_0.5224\n",
            "loss: 0.8010, train_acc: 0.7618, test_acc: 0.7337, hard_test_acc: 0.5224\n",
            ">> saved: state_dict/gcae_atsa_rest_acc0.7363_0.5306\n",
            "loss: 0.5781, train_acc: 0.7703, test_acc: 0.7363, hard_test_acc: 0.5306\n",
            ">>>>>>>>>>>>>>>>>>>>>>>>>>>>>>>>>>>>>>>>>>>>>>>>>>\n",
            "epoch  2\n",
            ">> saved: state_dict/gcae_atsa_rest_acc0.7381_0.5469\n",
            "loss: 0.2572, train_acc: 0.8634, test_acc: 0.7381, hard_test_acc: 0.5469\n",
            ">> saved: state_dict/gcae_atsa_rest_acc0.7399_0.551\n",
            "loss: 0.4341, train_acc: 0.8479, test_acc: 0.7399, hard_test_acc: 0.5510\n",
            ">> saved: state_dict/gcae_atsa_rest_acc0.7425_0.551\n",
            "loss: 0.4040, train_acc: 0.8481, test_acc: 0.7425, hard_test_acc: 0.5510\n",
            ">>>>>>>>>>>>>>>>>>>>>>>>>>>>>>>>>>>>>>>>>>>>>>>>>>\n",
            "epoch  3\n",
            ">>>>>>>>>>>>>>>>>>>>>>>>>>>>>>>>>>>>>>>>>>>>>>>>>>\n",
            "epoch  4\n",
            ">>>>>>>>>>>>>>>>>>>>>>>>>>>>>>>>>>>>>>>>>>>>>>>>>>\n",
            "epoch  5\n",
            ">>>>>>>>>>>>>>>>>>>>>>>>>>>>>>>>>>>>>>>>>>>>>>>>>>\n",
            "epoch  6\n",
            ">>>>>>>>>>>>>>>>>>>>>>>>>>>>>>>>>>>>>>>>>>>>>>>>>>\n",
            "epoch  7\n",
            ">>>>>>>>>>>>>>>>>>>>>>>>>>>>>>>>>>>>>>>>>>>>>>>>>>\n",
            "epoch  8\n",
            ">>>>>>>>>>>>>>>>>>>>>>>>>>>>>>>>>>>>>>>>>>>>>>>>>>\n",
            "epoch  9\n",
            "max_test_acc: 0.7425044091710759 max_hard_test_acc: 0.5510204081632653 \n",
            "####################################################################################################\n",
            "max_test_acc_overall: 0.7425044091710759 max_hard_test_acc_overall: 0.5510204081632653 \n",
            "max_test_acc_overall_ave: 0.7425044091710759 max_hard_test_acc_overall_ave: 0.5510204081632653 \n"
          ]
        }
      ]
    },
    {
      "cell_type": "code",
      "metadata": {
        "colab": {
          "background_save": true,
          "base_uri": "https://localhost:8080/"
        },
        "id": "ily1R4LmX-B-",
        "outputId": "f9f30413-cc9b-43cf-b728-5aa0a4d2a6e9"
      },
      "source": [
        "#ATSA Laptop Dataset\n",
        "%cd /content/GCAE\n",
        "%run train -atsa -lr 5e-3 -batch_size 32 -model gcae_atsa -atsa_data laptop -epochs 10"
      ],
      "execution_count": null,
      "outputs": [
        {
          "name": "stdout",
          "output_type": "stream",
          "text": [
            "/content/GCAE\n",
            "2358\n",
            "654\n",
            "108\n",
            "atsa model\n",
            "repeat:  0\n",
            ">>>>>>>>>>>>>>>>>>>>>>>>>>>>>>>>>>>>>>>>>>>>>>>>>>\n",
            "epoch  0\n",
            ">> saved: state_dict/gcae_atsa_laptop_acc0.185_0.3056\n",
            "loss: 1.5575, train_acc: 0.0938, test_acc: 0.1850, hard_test_acc: 0.3056\n",
            ">> saved: state_dict/gcae_atsa_laptop_acc0.2401_0.4259\n",
            "loss: 1.4963, train_acc: 0.0938, test_acc: 0.2401, hard_test_acc: 0.4259\n",
            ">> saved: state_dict/gcae_atsa_laptop_acc0.5413_0.3426\n",
            "loss: 1.4453, train_acc: 0.0833, test_acc: 0.5413, hard_test_acc: 0.3426\n",
            ">> saved: state_dict/gcae_atsa_laptop_acc0.5612_0.3333\n",
            "loss: 1.1381, train_acc: 0.3849, test_acc: 0.5612, hard_test_acc: 0.3333\n",
            ">> saved: state_dict/gcae_atsa_laptop_acc0.5657_0.3148\n",
            "loss: 1.0326, train_acc: 0.4091, test_acc: 0.5657, hard_test_acc: 0.3148\n",
            ">> saved: state_dict/gcae_atsa_laptop_acc0.5719_0.3056\n",
            "loss: 1.0424, train_acc: 0.4236, test_acc: 0.5719, hard_test_acc: 0.3056\n",
            ">> saved: state_dict/gcae_atsa_laptop_acc0.5749_0.3148\n",
            "loss: 1.0814, train_acc: 0.4540, test_acc: 0.5749, hard_test_acc: 0.3148\n",
            ">> saved: state_dict/gcae_atsa_laptop_acc0.5795_0.3426\n",
            "loss: 0.8472, train_acc: 0.4688, test_acc: 0.5795, hard_test_acc: 0.3426\n",
            ">> saved: state_dict/gcae_atsa_laptop_acc0.5856_0.3426\n",
            "loss: 1.2223, train_acc: 0.4777, test_acc: 0.5856, hard_test_acc: 0.3426\n",
            ">> saved: state_dict/gcae_atsa_laptop_acc0.5887_0.3333\n",
            "loss: 0.8706, train_acc: 0.4833, test_acc: 0.5887, hard_test_acc: 0.3333\n",
            ">> saved: state_dict/gcae_atsa_laptop_acc0.5994_0.3426\n",
            "loss: 0.9644, train_acc: 0.4898, test_acc: 0.5994, hard_test_acc: 0.3426\n",
            ">> saved: state_dict/gcae_atsa_laptop_acc0.6024_0.3426\n",
            "loss: 0.9704, train_acc: 0.4965, test_acc: 0.6024, hard_test_acc: 0.3426\n",
            ">>>>>>>>>>>>>>>>>>>>>>>>>>>>>>>>>>>>>>>>>>>>>>>>>>\n",
            "epoch  1\n",
            ">> saved: state_dict/gcae_atsa_laptop_acc0.604_0.3519\n",
            "loss: 0.8951, train_acc: 0.7277, test_acc: 0.6040, hard_test_acc: 0.3519\n",
            ">> saved: state_dict/gcae_atsa_laptop_acc0.6131_0.3796\n",
            "loss: 0.7319, train_acc: 0.7407, test_acc: 0.6131, hard_test_acc: 0.3796\n",
            ">> saved: state_dict/gcae_atsa_laptop_acc0.6177_0.3704\n",
            "loss: 0.6167, train_acc: 0.7469, test_acc: 0.6177, hard_test_acc: 0.3704\n",
            ">> saved: state_dict/gcae_atsa_laptop_acc0.6254_0.3981\n",
            "loss: 0.6106, train_acc: 0.7509, test_acc: 0.6254, hard_test_acc: 0.3981\n",
            ">> saved: state_dict/gcae_atsa_laptop_acc0.6269_0.4167\n",
            "loss: 0.7138, train_acc: 0.7535, test_acc: 0.6269, hard_test_acc: 0.4167\n",
            ">> saved: state_dict/gcae_atsa_laptop_acc0.6346_0.4259\n",
            "loss: 0.4881, train_acc: 0.7607, test_acc: 0.6346, hard_test_acc: 0.4259\n",
            ">>>>>>>>>>>>>>>>>>>>>>>>>>>>>>>>>>>>>>>>>>>>>>>>>>\n",
            "epoch  2\n",
            ">> saved: state_dict/gcae_atsa_laptop_acc0.6422_0.4074\n",
            "loss: 0.4763, train_acc: 0.8562, test_acc: 0.6422, hard_test_acc: 0.4074\n",
            ">> saved: state_dict/gcae_atsa_laptop_acc0.6437_0.4444\n",
            "loss: 0.5034, train_acc: 0.8588, test_acc: 0.6437, hard_test_acc: 0.4444\n",
            ">> saved: state_dict/gcae_atsa_laptop_acc0.6453_0.4444\n",
            "loss: 0.4766, train_acc: 0.8590, test_acc: 0.6453, hard_test_acc: 0.4444\n",
            ">> saved: state_dict/gcae_atsa_laptop_acc0.6468_0.4444\n",
            "loss: 0.2868, train_acc: 0.8609, test_acc: 0.6468, hard_test_acc: 0.4444\n",
            ">>>>>>>>>>>>>>>>>>>>>>>>>>>>>>>>>>>>>>>>>>>>>>>>>>\n",
            "epoch  3\n",
            ">> saved: state_dict/gcae_atsa_laptop_acc0.6498_0.4167\n",
            "loss: 0.2815, train_acc: 0.9219, test_acc: 0.6498, hard_test_acc: 0.4167\n",
            ">> saved: state_dict/gcae_atsa_laptop_acc0.6529_0.4444\n",
            "loss: 0.2266, train_acc: 0.9389, test_acc: 0.6529, hard_test_acc: 0.4444\n",
            ">>>>>>>>>>>>>>>>>>>>>>>>>>>>>>>>>>>>>>>>>>>>>>>>>>\n",
            "epoch  4\n",
            ">>>>>>>>>>>>>>>>>>>>>>>>>>>>>>>>>>>>>>>>>>>>>>>>>>\n",
            "epoch  5\n",
            ">>>>>>>>>>>>>>>>>>>>>>>>>>>>>>>>>>>>>>>>>>>>>>>>>>\n",
            "epoch  6\n",
            ">>>>>>>>>>>>>>>>>>>>>>>>>>>>>>>>>>>>>>>>>>>>>>>>>>\n",
            "epoch  7\n",
            ">> saved: state_dict/gcae_atsa_laptop_acc0.6575_0.4907\n",
            "loss: 0.1435, train_acc: 0.9699, test_acc: 0.6575, hard_test_acc: 0.4907\n",
            ">>>>>>>>>>>>>>>>>>>>>>>>>>>>>>>>>>>>>>>>>>>>>>>>>>\n",
            "epoch  8\n",
            ">>>>>>>>>>>>>>>>>>>>>>>>>>>>>>>>>>>>>>>>>>>>>>>>>>\n",
            "epoch  9\n",
            "max_test_acc: 0.6574923547400612 max_hard_test_acc: 0.49074074074074076 \n",
            "####################################################################################################\n",
            "max_test_acc_overall: 0.6574923547400612 max_hard_test_acc_overall: 0.49074074074074076 \n",
            "max_test_acc_overall_ave: 0.6574923547400612 max_hard_test_acc_overall_ave: 0.49074074074074076 \n"
          ]
        }
      ]
    },
    {
      "cell_type": "code",
      "metadata": {
        "id": "kdZXGM5_6Hr7"
      },
      "source": [
        "import pandas as pd"
      ],
      "execution_count": null,
      "outputs": []
    },
    {
      "cell_type": "code",
      "metadata": {
        "colab": {
          "base_uri": "https://localhost:8080/",
          "height": 295
        },
        "id": "YmYMBcnfGKk4",
        "outputId": "b9f6a5cb-9d5a-4290-a506-a7a987aea4b9"
      },
      "source": [
        "df1 = pd.DataFrame({\n",
        "    'train_acc':    [0.1875,0.6139,0.7947,0.9062,0.9062,0.9062,0.9264,0.9264,0.9264,0.9264],\n",
        "    'test_acc':     [0.2166,0.7532,0.7561,0.7620,0.7620,0.7620,0.7629,0.7629,0.7629,0.7629],\n",
        "    'hard_test_acc':[0.2921,0.4157,0.4382,0.4270,0.4270,0.4270,0.4270,0.4270,0.4270,0.4270],\n",
        "    'epochs':       [0,1,2,3,4,5,6,7,8,9]\n",
        "}, )\n",
        "df1['train_acc'],df1['test_acc'],df1['hard_test_acc'] = df1['train_acc']*100,df1['test_acc']*100,df1['hard_test_acc']*100\n",
        "#print(df1)\n",
        "lines = df1.plot.line(x = 'epochs', title = 'ACSA 2014 Dataset Results', ylim = [0,100], xlim = [0,9])\n",
        "lines.set_ylabel('Accuracy (%)')\n",
        "lines.set_xlabel('Epochs')\n",
        "lines;\n",
        "lines.figure.savefig('acsa_2014.png')"
      ],
      "execution_count": null,
      "outputs": [
        {
          "output_type": "display_data",
          "data": {
            "image/png": "[encoded data removed]",
            "text/plain": [
              "<Figure size 432x288 with 1 Axes>"
            ]
          },
          "metadata": {
            "needs_background": "light"
          }
        }
      ]
    },
    {
      "cell_type": "code",
      "metadata": {
        "colab": {
          "base_uri": "https://localhost:8080/",
          "height": 295
        },
        "id": "i73vhRCZH8Xj",
        "outputId": "3c1deb5c-5afd-46bf-922e-6536fe3765a1"
      },
      "source": [
        "df2 = pd.DataFrame({\n",
        "    'train_acc':    [0.5938,0.6546,0.8012,0.8831,0.8831,0.9254,0.9254,0.9254,0.9254,0.9254],\n",
        "    'test_acc':     [0.6204,0.7885,0.8162,0.8232,0.8232,0.8261,0.8261,0.8261,0.8261,0.8261],\n",
        "    'hard_test_acc':[0.3932,0.4829,0.4829,0.4829,0.4829,0.4744,0.4744,0.4744,0.4744,0.4744],\n",
        "    'epochs':       [0,1,2,3,4,5,6,7,8,9]\n",
        "}, )\n",
        "df2['train_acc'],df2['test_acc'],df2['hard_test_acc'] = df2['train_acc']*100,df2['test_acc']*100,df2['hard_test_acc']*100\n",
        "#print(df2)\n",
        "lines = df2.plot.line(x = 'epochs', title = 'ACSA Large Dataset Results', ylim = [0,100], xlim = [0,9])\n",
        "lines.set_ylabel('Accuracy (%)')\n",
        "lines.set_xlabel('Epochs')\n",
        "lines;\n",
        "lines.figure.savefig('acsa_large.png')"
      ],
      "execution_count": null,
      "outputs": [
        {
          "output_type": "display_data",
          "data": {
            "image/png": "[encoded data removed]",
            "text/plain": [
              "<Figure size 432x288 with 1 Axes>"
            ]
          },
          "metadata": {
            "needs_background": "light"
          }
        }
      ]
    },
    {
      "cell_type": "code",
      "metadata": {
        "colab": {
          "base_uri": "https://localhost:8080/",
          "height": 295
        },
        "id": "QPUzuBV7K7W6",
        "outputId": "78d3def3-c360-4ba0-86fb-484abb4f1e4d"
      },
      "source": [
        "df3 = pd.DataFrame({\n",
        "    'train_acc':    [0.5938,0.5938,0.6189,0.7703,0.8481,0.8481,0.8481],\n",
        "    'test_acc':     [0.6420,0.6420,0.7099,0.7363,0.7425,0.7425,0.7425],\n",
        "    'hard_test_acc':[0.3755,0.3755,0.4776,0.5306,0.5510,0.5510,0.5510],\n",
        "    'epochs':       [0,1,2,3,4,5,6]\n",
        "}, )\n",
        "df3['train_acc'],df3['test_acc'],df3['hard_test_acc'] = df3['train_acc']*100,df3['test_acc']*100,df3['hard_test_acc']*100\n",
        "#print(df3)\n",
        "lines = df3.plot.line(x = 'epochs', title = 'ATSA Restaurant Dataset Results', ylim = [0,100], xlim = [0,6])\n",
        "lines.set_ylabel('Accuracy (%)')\n",
        "lines.set_xlabel('Epochs')\n",
        "lines;\n",
        "lines.figure.savefig('atsa_rest.png')"
      ],
      "execution_count": null,
      "outputs": [
        {
          "output_type": "display_data",
          "data": {
            "image/png": "[encoded data removed]",
            "text/plain": [
              "<Figure size 432x288 with 1 Axes>"
            ]
          },
          "metadata": {
            "needs_background": "light"
          }
        }
      ]
    },
    {
      "cell_type": "code",
      "metadata": {
        "colab": {
          "base_uri": "https://localhost:8080/",
          "height": 295
        },
        "id": "NlIvArIM6Uus",
        "outputId": "efb6d7aa-3097-4e58-df05-c91f4b61e750"
      },
      "source": [
        "df4 = pd.DataFrame({\n",
        "    'train_acc':    [0.0938,0.4965,0.7607,0.8609,0.9389,0.9389,0.9389,0.9389,0.9699,0.9699],\n",
        "    'test_acc':     [0.1850,0.6024,0.6346,0.6468,0.6529,0.6529,0.6529,0.6529,0.6575,0.6575],\n",
        "    'hard_test_acc':[0.3056,0.3426,0.4259,0.4444,0.4444,0.4444,0.4444,0.4444,0.4907,0.4907],\n",
        "    'epochs':       [0,1,2,3,4,5,6,7,8,9]\n",
        "}, )\n",
        "df4['train_acc'],df4['test_acc'],df4['hard_test_acc'] = df4['train_acc']*100,df4['test_acc']*100,df4['hard_test_acc']*100\n",
        "#print(df4)\n",
        "lines = df4.plot.line(x = 'epochs', title = 'ATSA Laptop Dataset Results', ylim = [0,100], xlim = [0,9])\n",
        "lines.set_ylabel('Accuracy (%)')\n",
        "lines.set_xlabel('Epochs')\n",
        "lines;\n",
        "lines.figure.savefig('atsa_laptop.png')"
      ],
      "execution_count": null,
      "outputs": [
        {
          "output_type": "display_data",
          "data": {
            "image/png": "[encoded data removed]",
            "text/plain": [
              "<Figure size 432x288 with 1 Axes>"
            ]
          },
          "metadata": {
            "needs_background": "light"
          }
        }
      ]
    }
  ]
}